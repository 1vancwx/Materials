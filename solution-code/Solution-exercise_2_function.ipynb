{
 "cells": [
  {
   "cell_type": "markdown",
   "metadata": {},
   "source": [
    "## Exercise 1: Sum of the First n Positive Integers\n",
    "\n",
    "Write a program that reads a positive integer, *n*, from the user and then displays the sum of all of the integers from 1 to *n*. The sum of the first *n* positive integers can be\n",
    "computed using the formula:\n",
    "$$sum = {(n)(n+1) \\over 2}$$"
   ]
  },
  {
   "cell_type": "code",
   "execution_count": 1,
   "metadata": {},
   "outputs": [
    {
     "name": "stdout",
     "output_type": "stream",
     "text": [
      "Enter a positive integer: 5\n",
      "The sum of the first 5 positive integers is 15.0\n"
     ]
    }
   ],
   "source": [
    "#Read input from the user\n",
    "n = int(input(\"Enter a positive integer: \"))\n",
    "\n",
    "summated = n * (n+1)/2\n",
    "print(\"The sum of the first\", n, \"positive integers is\", summated)"
   ]
  },
  {
   "cell_type": "markdown",
   "metadata": {},
   "source": [
    "## Exercise 2: Dog Years\n",
    "\n",
    "It is commonly said that one human year is equivalent to 7 dog years. However this simple conversion fails to recognize that dogs reach adulthood in approximately two years. As a result, some people believe that it is better to count each of the first two human years as 10.5 dog years, and then count each additional human year as 4 dog years.\n",
    "\n",
    "Write a program that implements the conversion from human years to dog years described in the previous paragraph. Ensure that your program works correctly for conversions of less than two human years and for conversions of two or more human years. Your program should display an appropriate error message if the user enters a negative number."
   ]
  },
  {
   "cell_type": "code",
   "execution_count": 5,
   "metadata": {},
   "outputs": [
    {
     "name": "stdout",
     "output_type": "stream",
     "text": [
      "Please enter human years: 5\n",
      "Dog Years: 33.0\n"
     ]
    }
   ],
   "source": [
    "human_yrs = float(input(\"Please enter human years: \"))\n",
    "if human_yrs < 2.0:\n",
    "    dog_yrs = human_yrs * 10.5    \n",
    "else:\n",
    "    dog_yrs = 2.0 * 10.5\n",
    "    dog_yrs = dog_yrs + (human_yrs-2)*4\n",
    "print(\"Dog Years:\", dog_yrs)\n"
   ]
  },
  {
   "cell_type": "code",
   "execution_count": 2,
   "metadata": {},
   "outputs": [
    {
     "name": "stdout",
     "output_type": "stream",
     "text": [
      "Please enter human years: 3\n",
      "Dog years: 25.0\n"
     ]
    }
   ],
   "source": [
    "#using functions\n",
    "def human_to_dog_yrs(human_yrs):\n",
    "    if human_yrs < 2.0:\n",
    "        dog_yrs = human_yrs * 10.5\n",
    "        return dog_yrs\n",
    "    else:\n",
    "        dog_yrs = 2.0 * 10.5\n",
    "        dog_yrs = dog_yrs + (human_yrs-2)*4\n",
    "        return dog_yrs\n",
    "    \n",
    "def check_positive(user_human_yrs):\n",
    "    if user_human_yrs < 0.0:\n",
    "        user_human_yrs = float(input(\"Please enter a positive number: \"))\n",
    "        check_positive(user_human_yrs)\n",
    "    else:\n",
    "        print(\"Dog years:\", human_to_dog_yrs(user_human_yrs))\n",
    "        \n",
    "human = float(input(\"Please enter human years: \"))\n",
    "check_positive(human)"
   ]
  },
  {
   "cell_type": "markdown",
   "metadata": {},
   "source": [
    "## Exercise 3: Occurrences of all characters\n",
    "\n",
    "For an input string of your choice, count number of occurrences of all characters within a string.\n",
    "\n",
    "* For example, \n",
    "\n",
    "`count(\"happy\") = {'h': 1, 'a': 1, 'p': 2, 'y': 1}`\n"
   ]
  },
  {
   "cell_type": "code",
   "execution_count": 8,
   "metadata": {},
   "outputs": [
    {
     "data": {
      "text/plain": [
       "2"
      ]
     },
     "execution_count": 8,
     "metadata": {},
     "output_type": "execute_result"
    }
   ],
   "source": [
    "# hint\n",
    "\"commuter\".count(\"m\")"
   ]
  },
  {
   "cell_type": "code",
   "execution_count": 6,
   "metadata": {},
   "outputs": [
    {
     "name": "stdout",
     "output_type": "stream",
     "text": [
      "{'c': 2, 'h': 1, 'a': 2, 'r': 2, 't': 1, 'e': 1, 's': 1}\n"
     ]
    }
   ],
   "source": [
    "inputStr = \"characters\"\n",
    "countDict = {}\n",
    "\n",
    "for char in inputStr:\n",
    "    count = inputStr.count(char)\n",
    "    countDict[char] = count\n",
    "\n",
    "print(countDict)"
   ]
  },
  {
   "cell_type": "markdown",
   "metadata": {},
   "source": [
    "# Exercise 4: Admission Price\n",
    "\n",
    "A particular zoo determines the price of admission based on the age of the guest. Guests 2 years of age and less are admitted without charge. Children between 3 and 12 years of age cost \\$14.00$. Seniors aged 65 years and over cost \\$18.00. Admission for all other guests is 23.00.\n",
    "\n",
    "Create a program that begins by reading the ages of all of the guests in a group from the user, with one age entered on each line. The user will enter a blank line to indicate that there are no more guests in the group. Then your program should display the admission cost for the group with an appropriate message. The cost should be displayed using two decimal places."
   ]
  },
  {
   "cell_type": "code",
   "execution_count": 15,
   "metadata": {},
   "outputs": [
    {
     "name": "stdout",
     "output_type": "stream",
     "text": [
      "Enter the age of the guest (enter blank to end): 23\n",
      "Enter the age of the guest (enter blank to end): 2\n",
      "Enter the age of the guest (enter blank to end): 6\n",
      "Enter the age of the guest (enter blank to end): \n",
      "The total for that group is $37.00\n"
     ]
    }
   ],
   "source": [
    "baby_price = 0.0\n",
    "child_price = 14.0\n",
    "adult_price = 23.0\n",
    "senior_price = 18.0\n",
    "\n",
    "baby_limit = 2\n",
    "child_limit = 12\n",
    "adult_limit = 64\n",
    "\n",
    "total = 0\n",
    "\n",
    "line = input(\"Enter the age of the guest (enter blank to end): \")\n",
    "\n",
    "while line !=\"\":\n",
    "    age = int(line)\n",
    "    \n",
    "    if age <= baby_limit:\n",
    "        total = total + baby_price\n",
    "    elif age <= child_limit:\n",
    "        total = total + child_price\n",
    "    elif age <= adult_limit:\n",
    "        total = total + adult_price\n",
    "    else:\n",
    "        total = total + senior_price\n",
    "        \n",
    "    line = input(\"Enter the age of the guest (enter blank to end): \")\n",
    "\n",
    "print(\"The total for that group is $%.2f\" % total)"
   ]
  },
  {
   "cell_type": "markdown",
   "metadata": {},
   "source": [
    "# Exercise 5: Map character list to vowel/consonant or ?\n"
   ]
  },
  {
   "cell_type": "markdown",
   "metadata": {},
   "source": [
    "Convert to 'v' if a character is a vowel and 'c' if a consonant, otherwise convert to '?'.The vowels and lowercase alphabet are conveniently defined below. The characters to convert are in the `characters` list."
   ]
  },
  {
   "cell_type": "code",
   "execution_count": 11,
   "metadata": {},
   "outputs": [
    {
     "name": "stdout",
     "output_type": "stream",
     "text": [
      "['a', 'b', 'c', 'd', 'e', 'f', 'g', 'h', 'i', 'j', 'k', 'l', 'm', 'n', 'o', 'p', 'q', 'r', 's', 't', 'u', 'v', 'w', 'x', 'y', 'z']\n",
      "['a', 'e', 'i', 'o', 'u']\n"
     ]
    }
   ],
   "source": [
    "import string\n",
    "\n",
    "alphabet = list(string.ascii_lowercase)\n",
    "vowels = list('aeiou')\n",
    "print(alphabet)\n",
    "print(vowels)"
   ]
  },
  {
   "cell_type": "code",
   "execution_count": 12,
   "metadata": {},
   "outputs": [
    {
     "data": {
      "text/plain": [
       "['a', 'f', None, 'k', 'l', '1', 12, 'e', 'e', -1, 'i', 'b', 'p']"
      ]
     },
     "execution_count": 12,
     "metadata": {},
     "output_type": "execute_result"
    }
   ],
   "source": [
    "characters = ['a', 'f', None, 'k', 'l', '1', 12, 'e', 'e', -1, 'i', 'b', 'p']\n",
    "characters"
   ]
  },
  {
   "cell_type": "code",
   "execution_count": 13,
   "metadata": {},
   "outputs": [
    {
     "name": "stdout",
     "output_type": "stream",
     "text": [
      "['v', 'c', '?', 'c', 'c', '?', '?', 'v', 'v', '?', 'v', 'c', 'c']\n"
     ]
    }
   ],
   "source": [
    "#expected output\n",
    "print(['v', 'c', '?', 'c', 'c', '?', '?', 'v', 'v', '?', 'v', 'c', 'c'])"
   ]
  },
  {
   "cell_type": "code",
   "execution_count": 14,
   "metadata": {},
   "outputs": [
    {
     "data": {
      "text/plain": [
       "['v', 'c', '?', 'c', 'c', '?', '?', 'v', 'v', '?', 'v', 'c', 'c']"
      ]
     },
     "execution_count": 14,
     "metadata": {},
     "output_type": "execute_result"
    }
   ],
   "source": [
    "converted = []\n",
    "for c in characters:\n",
    "    if c in alphabet:\n",
    "        if c in vowels:\n",
    "            converted.append('v')\n",
    "        else:\n",
    "            converted.append('c')\n",
    "    else:\n",
    "        converted.append('?')\n",
    "\n",
    "converted"
   ]
  },
  {
   "cell_type": "code",
   "execution_count": null,
   "metadata": {},
   "outputs": [],
   "source": []
  }
 ],
 "metadata": {
  "kernelspec": {
   "display_name": "Python 3",
   "language": "python",
   "name": "python3"
  },
  "language_info": {
   "codemirror_mode": {
    "name": "ipython",
    "version": 3
   },
   "file_extension": ".py",
   "mimetype": "text/x-python",
   "name": "python",
   "nbconvert_exporter": "python",
   "pygments_lexer": "ipython3",
   "version": "3.7.6"
  }
 },
 "nbformat": 4,
 "nbformat_minor": 4
}
